{
 "cells": [
  {
   "cell_type": "code",
   "execution_count": null,
   "metadata": {},
   "outputs": [
    {
     "name": "stdout",
     "output_type": "stream",
     "text": [
      "The URL is potentially malicious! Positives: 2/96\n"
     ]
    }
   ],
   "source": [
    "import requests\n",
    "\n",
    "# Replace 'your_api_key' with your actual VirusTotal API key\n",
    "API_KEY = '17b59489ee25f3afc93b767150b3b3e3d13a3daaf2fe36a8ff59412aa14d8e59'\n",
    "VT_URL = 'https://www.virustotal.com/vtapi/v2/url/report'\n",
    "\n",
    "def check_url(url):\n",
    "    try:\n",
    "\n",
    "        # Define parameters for the API request\n",
    "        params = {'apikey': API_KEY, 'resource': url}\n",
    "\n",
    "        # Send request to VirusTotal\n",
    "        response = requests.get(VT_URL, params=params)\n",
    "        \n",
    "        if response.status_code == 200:\n",
    "            result = response.json()\n",
    "            \n",
    "            # Check if URL is malicious\n",
    "            if result['positives'] > 0:\n",
    "                print(f\"The URL is potentially malicious! Positives: {result['positives']}/{result['total']}\")\n",
    "            else:\n",
    "                print(\"The URL appears safe.\")\n",
    "        else:\n",
    "            print(\"Failed to connect to VirusTotal API\")\n",
    "    except Exception as e:\n",
    "        print(f\"An error occurred: {e}\")\n",
    "# Test the function\n",
    "url_to_check = \"https://ww25.soap2day.day/\"\n",
    "check_url(url_to_check)\n",
    "\n",
    "#https://ww25.soap2day.day/\n",
    "#https://rbcroyalbank-verify-login.com/\n",
    "#https://www.pirateproxy-bay.com/"
   ]
  }
 ],
 "metadata": {
  "kernelspec": {
   "display_name": "base",
   "language": "python",
   "name": "python3"
  },
  "language_info": {
   "codemirror_mode": {
    "name": "ipython",
    "version": 3
   },
   "file_extension": ".py",
   "mimetype": "text/x-python",
   "name": "python",
   "nbconvert_exporter": "python",
   "pygments_lexer": "ipython3",
   "version": "3.11.7"
  }
 },
 "nbformat": 4,
 "nbformat_minor": 2
}
