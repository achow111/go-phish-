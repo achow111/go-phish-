{
 "cells": [
  {
   "cell_type": "code",
   "execution_count": null,
   "metadata": {
    "vscode": {
     "languageId": "plaintext"
    }
   },
   "outputs": [],
   "source": [
    "import pandas as pd\n",
    "from sklearn.model_selection import train_test_split\n",
    "from sklearn.feature_extraction.text import TfidfVectorizer\n",
    "from sklearn.preprocessing import LabelEncoder\n",
    "from sklearn.metrics import accuracy_score\n",
    "from sklearn.ensemble import RandomForestClassifier\n",
    "import pickle\n",
    "\n",
    "\n",
    "# Load the dataset\n",
    "data = pd.read_csv(\"/Users/sahejsinghsodhi/Downloads/GitHub/go-phish-/training and classifying/Email Detection/Phishing_Email.csv.zip\")\n",
    "\n",
    "# Data preprocessing\n",
    "data = data.drop(columns={\"Unnamed: 0\"})  # Remove unnecessary column\n",
    "data = data.dropna()  # Drop any rows with missing values\n",
    "\n",
    "# TF-IDF Transformation\n",
    "tfidf = TfidfVectorizer(stop_words='english', max_features=1000)  # Limit to 1000 features for efficiency\n",
    "X = tfidf.fit_transform(data['Email Text'])  # Fit and transform the 'Email Text' column\n",
    "\n",
    "# Label Encoding for 'Email Type' (assuming this is the department or target label)\n",
    "label_encoder = LabelEncoder()\n",
    "y = label_encoder.fit_transform(data['Email Type'])  # Encoding target labels (departments)\n",
    "\n",
    "# Split the data into training and testing sets\n",
    "X_train, X_test, y_train, y_test = train_test_split(X, y, test_size=0.2, random_state=42)\n",
    "\n",
    "# Initialize the Random Forest Classifier\n",
    "rf_model = RandomForestClassifier(n_estimators=100, random_state=42)\n",
    "\n",
    "# Train the model on the training data\n",
    "rf_model.fit(X_train, y_train)\n",
    "\n",
    "# Predict on the test set\n",
    "y_pred_rf = rf_model.predict(X_test)\n",
    "\n",
    "# Evaluate the model\n",
    "print(\"Random Forest Accuracy:\", accuracy_score(y_test, y_pred_rf))\n",
    "\n",
    "with open('model.pkl', 'wb') as file:\n",
    "    pickle.dump(rf_model, file)"
   ]
  },
  {
   "cell_type": "code",
   "execution_count": null,
   "metadata": {
    "vscode": {
     "languageId": "plaintext"
    }
   },
   "outputs": [],
   "source": [
    "# Now, let's predict the department for the new email\n",
    "new_email = \"\"\"Act fast: Limited stock available for our new product!\n",
    "\n",
    "Don’t miss out on this unique chance to win big! Click now to participate.\n",
    "\n",
    "For more details, visit our website or contact us directly.\"\"\"\n",
    "\n",
    "# Transform the new email using the already fitted vectorizer (on training data)\n",
    "X_new = tfidf.transform([new_email])  # Use transform() for test data\n",
    "\n",
    "# Make a prediction using the trained Random Forest model\n",
    "prediction = rf_model.predict(X_new)\n",
    "\n",
    "# Print the prediction result (department)\n",
    "predicted_department = label_encoder.inverse_transform(prediction)  # Convert numerical prediction back to department name\n",
    "print(\"Predicted department:\", predicted_department[0])\n"
   ]
  }
 ],
 "metadata": {
  "language_info": {
   "name": "python"
  }
 },
 "nbformat": 4,
 "nbformat_minor": 2
}
